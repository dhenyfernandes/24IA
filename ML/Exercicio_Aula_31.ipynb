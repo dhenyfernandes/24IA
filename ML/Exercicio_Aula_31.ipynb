{
 "cells": [
  {
   "cell_type": "code",
   "execution_count": null,
   "id": "2c8f10bf-3228-4a09-8293-2052d28dcc42",
   "metadata": {},
   "outputs": [],
   "source": [
    "from sklearn import datasets\n",
    "from sklearn.model_selection import train_test_split\n",
    "from sklearn.tree import DecisionTreeClassifier\n",
    "from sklearn.metrics import confusion_matrix\n",
    "from sklearn import metrics"
   ]
  },
  {
   "cell_type": "code",
   "execution_count": null,
   "id": "fbcd94d0-c5c6-4929-b894-8e4695eb4d95",
   "metadata": {},
   "outputs": [],
   "source": [
    "#fazendo o download dos dados direto dos datasets presente na scikit-learn\n",
    "data = datasets.load_breast_cancer()\n",
    "data.feature_names"
   ]
  },
  {
   "cell_type": "code",
   "execution_count": null,
   "id": "d7aac97f-d035-4dcc-a65e-644252290671",
   "metadata": {},
   "outputs": [],
   "source": [
    "#variável meta (target) -> aquilos que estamos tentando prever\n",
    "#no caso: cancer benigno ou maligno\n",
    "data.target_names"
   ]
  },
  {
   "cell_type": "code",
   "execution_count": null,
   "id": "93349984-df25-4246-8561-4335b3f9501f",
   "metadata": {},
   "outputs": [],
   "source": [
    "#linhas x colunas\n",
    "data.data.shape"
   ]
  },
  {
   "cell_type": "code",
   "execution_count": null,
   "id": "daf2999e-95e7-4974-8015-036e19ab2f1a",
   "metadata": {},
   "outputs": [],
   "source": [
    "#visualizando as 5 primeiras amostras\n",
    "data.data[0:5]"
   ]
  },
  {
   "cell_type": "markdown",
   "id": "3c0bf595-c036-4074-b1cf-39cfea75b555",
   "metadata": {},
   "source": [
    "## TODO 1\n",
    "> Separe o dataset em conjunto de treino e teste, sendo 70% para treino e 30% para teste"
   ]
  },
  {
   "cell_type": "code",
   "execution_count": null,
   "id": "0bb44b30-2789-4b8c-bb8c-cf346dcfa7ba",
   "metadata": {},
   "outputs": [],
   "source": [
    "#resposta"
   ]
  },
  {
   "cell_type": "markdown",
   "id": "02b9f795-7768-4c48-b725-dbb212cce165",
   "metadata": {},
   "source": [
    "## TODO 2\n",
    "> Treine uma Árvore de Decisão. Teste com diferentes valores de max_depth e compare os resultados"
   ]
  },
  {
   "cell_type": "code",
   "execution_count": null,
   "id": "f9f27496-f4c4-4066-a9b4-5da0230b6396",
   "metadata": {},
   "outputs": [],
   "source": [
    "#resposta"
   ]
  },
  {
   "cell_type": "markdown",
   "id": "c84e7e77-cf8c-49b4-8864-4d4892d82284",
   "metadata": {},
   "source": [
    "## TODO 3\n",
    "> Faça a predição para o conjunto de teste "
   ]
  },
  {
   "cell_type": "code",
   "execution_count": null,
   "id": "c60b47cf-a08c-4553-8e19-95f4c1da1289",
   "metadata": {},
   "outputs": [],
   "source": [
    "#resposta"
   ]
  },
  {
   "cell_type": "markdown",
   "id": "6df4bad2-fb58-4a01-8608-5d3ad0824e04",
   "metadata": {},
   "source": [
    "## TODO 4\n",
    "\n",
    "> Imprima a matriz de confusão (usando a Scikit-Learn)\n",
    "\n",
    "> Obtenha a Acurácia, Precision, Recall e F1-Score"
   ]
  },
  {
   "cell_type": "code",
   "execution_count": null,
   "id": "b03e6aed-7d8d-44ec-bf32-5c4ea499f046",
   "metadata": {},
   "outputs": [],
   "source": [
    "#resposta"
   ]
  },
  {
   "cell_type": "code",
   "execution_count": null,
   "id": "b635cf04-87d9-4f14-ad4b-79d2a56fdbd4",
   "metadata": {},
   "outputs": [],
   "source": [
    "#resposta"
   ]
  },
  {
   "cell_type": "code",
   "execution_count": null,
   "id": "9d673107-2577-43fd-ac75-4b6e888874da",
   "metadata": {},
   "outputs": [],
   "source": [
    "from sklearn.neighbors import KNeighborsClassifier\n",
    "import pandas as pd"
   ]
  },
  {
   "cell_type": "markdown",
   "id": "cf72fe03-3633-47d9-b966-4139c1fd5921",
   "metadata": {},
   "source": [
    "## TODO 5\n",
    "> Treine o KNN nesse mesmo conjunto de  com diferentes valores de k variando de 5 a 15\n",
    "\n",
    "> Armazene os valores de k e o valor respectivo da acurácia\n",
    "\n",
    "> Como o melhor resultado do KNN se saiu em relação ao resultado da Árvore de Decisão?"
   ]
  },
  {
   "cell_type": "code",
   "execution_count": null,
   "id": "1318277b-7fcc-4928-bb3f-3e1128510c30",
   "metadata": {},
   "outputs": [],
   "source": [
    "#resposta"
   ]
  },
  {
   "cell_type": "code",
   "execution_count": null,
   "id": "30e34b1f-2728-43d0-9f8c-e0573b4c7e14",
   "metadata": {},
   "outputs": [],
   "source": [
    "#resposta"
   ]
  }
 ],
 "metadata": {
  "kernelspec": {
   "display_name": "Python 3 (ipykernel)",
   "language": "python",
   "name": "python3"
  },
  "language_info": {
   "codemirror_mode": {
    "name": "ipython",
    "version": 3
   },
   "file_extension": ".py",
   "mimetype": "text/x-python",
   "name": "python",
   "nbconvert_exporter": "python",
   "pygments_lexer": "ipython3",
   "version": "3.9.12"
  }
 },
 "nbformat": 4,
 "nbformat_minor": 5
}
